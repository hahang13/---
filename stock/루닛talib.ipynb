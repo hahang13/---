{
 "cells": [
  {
   "cell_type": "code",
   "execution_count": 5,
   "metadata": {},
   "outputs": [],
   "source": [
    "import talib as ta\n",
    "import pandas as pd\n",
    "import numpy as np\n",
    "import csv"
   ]
  },
  {
   "cell_type": "code",
   "execution_count": 4,
   "metadata": {},
   "outputs": [],
   "source": [
    "rn = '루닛 주식 데이터.csv'"
   ]
  },
  {
   "cell_type": "code",
   "execution_count": 8,
   "metadata": {},
   "outputs": [],
   "source": [
    "with open('루닛 주식 데이터.csv',encoding='cp949') as file:\n",
    "    reader = csv.reader(file)\n",
    "    data = list(reader)"
   ]
  },
  {
   "cell_type": "code",
   "execution_count": 11,
   "metadata": {},
   "outputs": [],
   "source": [
    "close = [float(row[7]) for row in data[1:]]\n",
    "high = [float(row[5]) for row in data[1:]]\n",
    "low =  [float(row[6]) for row in data[1:]]"
   ]
  },
  {
   "cell_type": "code",
   "execution_count": 13,
   "metadata": {},
   "outputs": [
    {
     "ename": "TypeError",
     "evalue": "Argument 'real' has incorrect type (expected numpy.ndarray, got list)",
     "output_type": "error",
     "traceback": [
      "\u001b[1;31m---------------------------------------------------------------------------\u001b[0m",
      "\u001b[1;31mTypeError\u001b[0m                                 Traceback (most recent call last)",
      "Cell \u001b[1;32mIn[13], line 1\u001b[0m\n\u001b[1;32m----> 1\u001b[0m sma \u001b[39m=\u001b[39m ta\u001b[39m.\u001b[39;49mSMA(close, timeperiod\u001b[39m=\u001b[39;49m\u001b[39m10\u001b[39;49m)  \u001b[39m# 이동평균 계산\u001b[39;00m\n\u001b[0;32m      2\u001b[0m rsi \u001b[39m=\u001b[39m ta\u001b[39m.\u001b[39mRSI(close, timeperiod\u001b[39m=\u001b[39m\u001b[39m14\u001b[39m)  \u001b[39m# RSI 계산\u001b[39;00m\n\u001b[0;32m      3\u001b[0m macd, macdsignal, macdhist \u001b[39m=\u001b[39m ta\u001b[39m.\u001b[39mMACD(close)  \u001b[39m# MACD 계산\u001b[39;00m\n",
      "File \u001b[1;32mc:\\Users\\PC\\anaconda3\\envs\\pandas-dev\\lib\\site-packages\\talib\\__init__.py:64\u001b[0m, in \u001b[0;36m_wrapper.<locals>.wrapper\u001b[1;34m(*args, **kwds)\u001b[0m\n\u001b[0;32m     61\u001b[0m     _args \u001b[39m=\u001b[39m args\n\u001b[0;32m     62\u001b[0m     _kwds \u001b[39m=\u001b[39m kwds\n\u001b[1;32m---> 64\u001b[0m result \u001b[39m=\u001b[39m func(\u001b[39m*\u001b[39m_args, \u001b[39m*\u001b[39m\u001b[39m*\u001b[39m_kwds)\n\u001b[0;32m     66\u001b[0m \u001b[39m# check to see if we got a streaming result\u001b[39;00m\n\u001b[0;32m     67\u001b[0m first_result \u001b[39m=\u001b[39m result[\u001b[39m0\u001b[39m] \u001b[39mif\u001b[39;00m \u001b[39misinstance\u001b[39m(result, \u001b[39mtuple\u001b[39m) \u001b[39melse\u001b[39;00m result\n",
      "\u001b[1;31mTypeError\u001b[0m: Argument 'real' has incorrect type (expected numpy.ndarray, got list)"
     ]
    }
   ],
   "source": [
    "sma = ta.SMA(close, timeperiod=10)  # 이동평균 계산\n",
    "rsi = ta.RSI(close, timeperiod=14)  # RSI 계산\n",
    "macd, macdsignal, macdhist = ta.MACD(close)  # MACD 계산\n",
    "upper, middle, lower = ta.BBANDS(close)  # 볼린저 밴드 계산\n",
    "atr = ta.ATR(high, low, close)  # ATR 계산  "
   ]
  },
  {
   "cell_type": "code",
   "execution_count": null,
   "metadata": {},
   "outputs": [],
   "source": []
  },
  {
   "cell_type": "code",
   "execution_count": null,
   "metadata": {},
   "outputs": [],
   "source": []
  },
  {
   "cell_type": "code",
   "execution_count": null,
   "metadata": {},
   "outputs": [],
   "source": []
  },
  {
   "cell_type": "code",
   "execution_count": null,
   "metadata": {},
   "outputs": [],
   "source": []
  },
  {
   "cell_type": "code",
   "execution_count": null,
   "metadata": {},
   "outputs": [],
   "source": []
  },
  {
   "cell_type": "code",
   "execution_count": null,
   "metadata": {},
   "outputs": [],
   "source": []
  },
  {
   "cell_type": "code",
   "execution_count": null,
   "metadata": {},
   "outputs": [],
   "source": []
  },
  {
   "cell_type": "code",
   "execution_count": null,
   "metadata": {},
   "outputs": [],
   "source": []
  },
  {
   "cell_type": "code",
   "execution_count": null,
   "metadata": {},
   "outputs": [],
   "source": []
  },
  {
   "cell_type": "code",
   "execution_count": null,
   "metadata": {},
   "outputs": [],
   "source": []
  }
 ],
 "metadata": {
  "kernelspec": {
   "display_name": "pandas-dev",
   "language": "python",
   "name": "python3"
  },
  "language_info": {
   "codemirror_mode": {
    "name": "ipython",
    "version": 3
   },
   "file_extension": ".py",
   "mimetype": "text/x-python",
   "name": "python",
   "nbconvert_exporter": "python",
   "pygments_lexer": "ipython3",
   "version": "3.10.10"
  },
  "orig_nbformat": 4
 },
 "nbformat": 4,
 "nbformat_minor": 2
}
