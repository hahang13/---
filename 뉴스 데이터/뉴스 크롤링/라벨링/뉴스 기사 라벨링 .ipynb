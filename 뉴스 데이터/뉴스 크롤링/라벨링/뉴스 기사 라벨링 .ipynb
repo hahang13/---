{
 "cells": [
  {
   "cell_type": "code",
   "execution_count": 2,
   "metadata": {},
   "outputs": [
    {
     "name": "stdout",
     "output_type": "stream",
     "text": [
      "           date                                              title  \\\n",
      "0    2023-06-30              [주식 초고수는 지금] '주가 올 500% 급등' 루닛 순매수 1위   \n",
      "1    2023-06-30                     휴대용 엑스레이 기업 오톰, 잇단 M&amp;A 러브콜   \n",
      "2    2023-06-30                   성일하이텍·루닛 등... 내달 2.5억주 의무보유등록 해제   \n",
      "3    2023-06-30                           외인·기관 매도세에…국내 증시, 약보합 출발   \n",
      "4    2023-06-30                        개인투자자 순매수 톱10 중 9종목이 ‘마이너스’   \n",
      "..          ...                                                ...   \n",
      "559  2016-01-05  [2016 신년기획 - 과학이 미래다]\"구글 제치고 5등한 韓스타트업 루닛…알고리즘...   \n",
      "560  2016-01-04                      의료영상 분석하는 인공지능…루닛 \"올해 상용화 목표\"   \n",
      "561  2015-12-11  [벤처인 톡!톡!]백승욱 루닛 대표, “인공지능과 의학의 만남, 이미지인식 기술로 ...   \n",
      "562  2015-11-03                        소프트뱅크벤처스, 딥러닝 의료진단 '루닛'에 투자   \n",
      "563  2015-11-03                        의료 영상 진단 스타트업 루닛, 20억 투자 유치   \n",
      "\n",
      "                                               content  sentiment_score  \n",
      "0    [\\n하나기술, 에코프로 등 2차전지주도 순매수 상위권\\n\\n\\n\\n[서울경제] 미...                4  \n",
      "1    [\\n\\t\\t\\t[이데일리 석지헌 기자] 휴대 가능한 포터블 엑스레이를 제조 업체 ...               11  \n",
      "2    [\\n\\t\\t\\t30일 한국예탁결제원은 내달 41개사 2억5233만주의 의무보유등록...                0  \n",
      "3    [\\n코스피·코스닥, 동반 하락 출발외국인 투자자와 기관의 매도세에 국내 증시가 약...               -1  \n",
      "4    [\\n대부분 포털·2차전지 종목유일한 상승주는 AI업체 ‘루닛’\\n\\n\\n\\n/일러...                2  \n",
      "..                                                 ...              ...  \n",
      "559  [\\n\\t\\t\\t[머니투데이 김지민 기자] [편집자주] 기계가 모든 것을 대체하는 ...                9  \n",
      "560  [\\n[The story 벤처, 운명의 그 순간] 48. 백승욱 루닛 대표힙합동아리...                6  \n",
      "561  [\\n\\t\\t\\t 딥러닝 기반 이미지 인식 기술로 의료시장 뚫는다 &lt;포춘코리아...               17  \n",
      "562  [\\n\\t\\t\\t[머니투데이 서진욱 기자] \\n\\n\\n\\n소프트뱅크벤처스(대표 문규...                4  \n",
      "563  [\\n\\n\\n\\n\\n 딥러닝 기술을 기반으로 한 의료 영상 진단 서비스 기업인 루닛...                1  \n",
      "\n",
      "[564 rows x 4 columns]\n"
     ]
    }
   ],
   "source": [
    "from transformers import AutoTokenizer, AutoModelForSequenceClassification\n",
    "from transformers import pipeline\n",
    "\n",
    "class newslabel:\n",
    "    def __init__(self, newsDf):\n",
    "        self.newsDf = newsDf\n",
    "        self.score = 0\n",
    "\n",
    "    # 각 행에 대한 감성 점수를 계산하고 열에 추가하는 메서드\n",
    "    def labeling_each_row(self):\n",
    "        if self.newsDf.shape[0] == 0:\n",
    "            return self.newsDf\n",
    "\n",
    "        tokenizer = AutoTokenizer.from_pretrained('snunlp/KR-FinBert-SC')\n",
    "        model = AutoModelForSequenceClassification.from_pretrained('snunlp/KR-FinBert-SC')\n",
    "        senti_classifier = pipeline(task='text-classification', model=model, tokenizer=tokenizer)\n",
    "\n",
    "        scores = []\n",
    "\n",
    "        for index, row in self.newsDf.iterrows():\n",
    "            text = row['content']\n",
    "            newsSentences = text.split('. ')\n",
    "\n",
    "            row_score = 0\n",
    "            for sentence in newsSentences:\n",
    "                if len(sentence) < 512:\n",
    "                    if senti_classifier(sentence)[0]['label'] == 'positive':\n",
    "                        row_score += 1\n",
    "                    elif senti_classifier(sentence)[0]['label'] == 'negative':\n",
    "                        row_score -= 1\n",
    "                    else:\n",
    "                        pass\n",
    "\n",
    "            scores.append(row_score)\n",
    "\n",
    "        self.newsDf['sentiment_score'] = scores\n",
    "        return self.newsDf\n",
    "\n",
    "import pandas as pd\n",
    "# from newslabel import newslabel\n",
    "\n",
    "# CSV 파일 읽기\n",
    "data = pd.read_csv('../../뉴스 크롤링/관련주 크롤링/루닛.csv')\n",
    "\n",
    "# newslabel 인스턴스 생성\n",
    "news_labeler = newslabel(newsDf=data)\n",
    "# 각 행에 대한 감성 점수를 계산하고 열에 추가하기\n",
    "news_with_sentiment_scores = news_labeler.labeling_each_row()\n",
    "print(news_with_sentiment_scores)\n",
    "\n",
    "news_with_sentiment_scores.to_csv('../라벨링/루닛행점수추가.csv', en)"
   ]
  },
  {
   "cell_type": "code",
   "execution_count": 10,
   "metadata": {},
   "outputs": [],
   "source": [
    "news_with_sentiment_scores.to_csv('../라벨링/ddd.csv',index=False, encoding='utf-8-sig')"
   ]
  },
  {
   "cell_type": "code",
   "execution_count": 8,
   "metadata": {},
   "outputs": [
    {
     "name": "stdout",
     "output_type": "stream",
     "text": [
      "Total sentiment score: 2705\n"
     ]
    }
   ],
   "source": [
    "import pandas as pd\n",
    "# from newslabel import newslabel\n",
    "\n",
    "# CSV 파일 읽기\n",
    "data = pd.read_csv('../../뉴스 크롤링/관련주 크롤링/루닛.csv')\n",
    "\n",
    "# newslabel 인스턴스 생성\n",
    "news_labeler = newslabel(newsDf=data)\n",
    "# 감성 점수 계산\n",
    "total_score = news_labeler.labeling()\n",
    "print(f\"Total sentiment score: {total_score}\")"
   ]
  },
  {
   "cell_type": "code",
   "execution_count": 1,
   "metadata": {},
   "outputs": [
    {
     "ename": "NameError",
     "evalue": "name 'pd' is not defined",
     "output_type": "error",
     "traceback": [
      "\u001b[1;31m---------------------------------------------------------------------------\u001b[0m",
      "\u001b[1;31mNameError\u001b[0m                                 Traceback (most recent call last)",
      "Cell \u001b[1;32mIn[1], line 1\u001b[0m\n\u001b[1;32m----> 1\u001b[0m lunlab \u001b[39m=\u001b[39m pd\u001b[39m.\u001b[39mread_csv(\u001b[39m'\u001b[39m\u001b[39m./\u001b[39m\u001b[39m'\u001b[39m)\n",
      "\u001b[1;31mNameError\u001b[0m: name 'pd' is not defined"
     ]
    }
   ],
   "source": [
    "lunlab = pd.read_csv('./루닛라벨링추가.csv')\n",
    "\n"
   ]
  },
  {
   "cell_type": "code",
   "execution_count": null,
   "metadata": {},
   "outputs": [],
   "source": []
  }
 ],
 "metadata": {
  "kernelspec": {
   "display_name": "pandas-dev",
   "language": "python",
   "name": "python3"
  },
  "language_info": {
   "codemirror_mode": {
    "name": "ipython",
    "version": 3
   },
   "file_extension": ".py",
   "mimetype": "text/x-python",
   "name": "python",
   "nbconvert_exporter": "python",
   "pygments_lexer": "ipython3",
   "version": "3.10.10"
  },
  "orig_nbformat": 4
 },
 "nbformat": 4,
 "nbformat_minor": 2
}
