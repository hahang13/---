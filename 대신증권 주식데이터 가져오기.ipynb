{
 "cells": [
  {
   "cell_type": "code",
   "execution_count": 8,
   "metadata": {},
   "outputs": [],
   "source": [
    "import win32com.client\n",
    "import pandas as pd\n",
    "import numpy as np\n",
    "import datetime as dt\n",
    "import time\n",
    "from tqdm import tqdm"
   ]
  },
  {
   "cell_type": "code",
   "execution_count": 9,
   "metadata": {},
   "outputs": [],
   "source": [
    "# 원하는 주식데이터를 가져올 수 있는 대신증권 모듈 선언\n",
    "instCpCybos = win32com.client.Dispatch('CpUtil.CpCybos')\n",
    "instCpStockCode = win32com.client.Dispatch(\"CpUtil.CpStockCode\")\n",
    "StockChart = win32com.client.Dispatch(\"CpSysDib.StockChart\")"
   ]
  },
  {
   "cell_type": "code",
   "execution_count": 10,
   "metadata": {},
   "outputs": [
    {
     "name": "stdout",
     "output_type": "stream",
     "text": [
      "0\n"
     ]
    }
   ],
   "source": [
    "# 대신증권 API 연결 확인. 1 출력시 연결 성공, 0 출력시 연결 실패\n",
    "instCpCybos = win32com.client.Dispatch('CpUtil.CpCybos')\n",
    "print(instCpCybos.IsConnect)"
   ]
  },
  {
   "cell_type": "code",
   "execution_count": 3,
   "metadata": {},
   "outputs": [],
   "source": [
    "# 대신증권 API 연결 확인. 1 출력시 연결 성공, 0 출력시 연결 실패\n",
    "def connectCheck():\n",
    "    print('[시스템]:증권사 연결 시도 중')\n",
    "    if(instCpCybos.IsConnect == 1):\n",
    "        print('[시스템]:증권사 연결 완료!')"
   ]
  },
  {
   "cell_type": "code",
   "execution_count": 5,
   "metadata": {},
   "outputs": [],
   "source": [
    "# 증권시장에서 상장되어 있는 종목의 갯수 출력 -> 새로운 종목이 상장되거나 폐지됨에 따라 값이 달라진다.\n",
    "def canTradeStockCount():\n",
    "    print('[시스템]:거래 가능한 종목 개수 : '+str(instCpStockCode.GetCount())+'개 체크')"
   ]
  },
  {
   "cell_type": "code",
   "execution_count": 6,
   "metadata": {},
   "outputs": [],
   "source": [
    "# 0 -> 종목코드 : 요청할 종목의 종목 코드\n",
    "# 1 -> 요청구분 : 1은 기간으로 요청, 2는 갯수로 요청\n",
    "# 2 -> 요청 종료일 : YYYYMMDD 형식\n",
    "# 3 -> 요청 시작일 : YYYYMMDD 형식\n",
    "# 4 -> 요청개수 : 요청할 데이터의 개수\n",
    "# 5 -> 필드 = 0: 날짜, 1:시간, 2:시가, 3: 고가, 4: 저가, 5: 종가, 6: 전일대비, 8: 거래량, 9: 거래대금, 10: 누적체결매도수량\n",
    "#             11: 누적체결매수수량, 12: 상장주식수, 13: 시가총액, 14: 외국인주문한도수량, 15: 외국인주문가능수량, 16: 외국인현보유수량\n",
    "#             17: 외국인현보유비율, 18: 수정주가일자, 19: 수정주가비율, 20: 기관순매수, 21: 기관누적순매수, 22: 등락주선, 23: 등락비율\n",
    "#             24: 예탁금, 25: 주식회전율, 26: 거래성립률, 27: 대비부호\n",
    "# 6 -> 차트 구분 = D: 일, W: 주, m: 분, T: 틱\n",
    "# 9 -> 수정주가 = 0: 무수정주가, 1: 수정주가"
   ]
  },
  {
   "attachments": {},
   "cell_type": "markdown",
   "metadata": {},
   "source": [
    "## 데이터 수집"
   ]
  },
  {
   "cell_type": "code",
   "execution_count": 7,
   "metadata": {},
   "outputs": [],
   "source": [
    "# 대신증권 기준으로 정렬된 상장된(주식거래가 가능한) 종목을 전부 가져오기\n",
    "def getStockNameCode():\n",
    "    print('[시스템]:거래 가능한 종목 리스트 목록 가져오는 중')\n",
    "    code = [] # 종목코드\n",
    "    name = [] # 종목명\n",
    "\n",
    "    for i in range(0, instCpStockCode.GetCount()):\n",
    "        code.append(instCpStockCode.GetData(0, i))\n",
    "        name.append(instCpStockCode.GetData(1, i))\n",
    "\n",
    "    codeNameList = pd.DataFrame({\n",
    "        '종목코드':code\n",
    "        , '종목명':name\n",
    "    })\n",
    "    # codeNameList\n",
    "    if(len(codeNameList) == 0):\n",
    "        print('[시스템]:거래 가능한 종목 리스트 목록 가져온 개수 : '+str(len(codeNameList))+'개')\n",
    "        print('[시스템]:거래 가능한 종목 리스트 목록 가져오기에 문제가 발생하였습니다.')\n",
    "    else:\n",
    "        print('[시스템]:거래 가능한 종목 리스트 목록 가져오기 완료!')\n",
    "\n",
    "    return codeNameList"
   ]
  },
  {
   "cell_type": "code",
   "execution_count": 8,
   "metadata": {},
   "outputs": [],
   "source": [
    "# 원하는 종목코드, 리스트를 새로운 데이터프레임에 저장\n",
    "def jongmokSerach(jongmokSearchList, codeNameList):\n",
    "    code = []\n",
    "    name = []\n",
    "    for names in jongmokSearchList:\n",
    "        code.append(codeNameList[codeNameList['종목명'] == names]['종목코드'].iloc[0])\n",
    "        name.append(codeNameList[codeNameList['종목명'] == names]['종목명'].iloc[0])\n",
    "\n",
    "    selCodeNameList = pd.DataFrame({\n",
    "        '종목코드':code\n",
    "        , '종목명':name\n",
    "    })\n",
    "    return selCodeNameList"
   ]
  },
  {
   "cell_type": "code",
   "execution_count": 9,
   "metadata": {},
   "outputs": [],
   "source": [
    "# 주식 데이터 가져오기\n",
    "def getjusik(jusikCode, jusikName, start, end):\n",
    "    code = [] # 종목코드\n",
    "    name = [] # 종목명\n",
    "    c0 = []   # 날짜\n",
    "    c1 = []   # 시간\n",
    "    c2 = []   # 시가\n",
    "    c3 = []   # 고가\n",
    "    c4 = []   # 저가\n",
    "    c5 = []   # 종가\n",
    "    c8 = []   # 거래량\n",
    "    # c9 = []   # 거래대금\n",
    "    # c10 = []  # 누적체결매도수량\n",
    "    # c11 = []  # 누적체결매수수량\n",
    "\n",
    "    StockChart.SetInputValue(0, jusikCode)\n",
    "    StockChart.SetInputValue(1, ord('1'))\n",
    "    StockChart.SetInputValue(2, end)\n",
    "    StockChart.SetInputValue(3, start)\n",
    "    StockChart.SetInputValue(4, 2000)\n",
    "    StockChart.SetInputValue(5, (0,1,2,3,4,5,8,9,10,11,12,13))\n",
    "    StockChart.SetInputValue(6, ord('m'))\n",
    "    StockChart.SetInputValue(9, ord('1'))\n",
    "\n",
    "    StockChart.BlockRequest()\n",
    "\n",
    "    dataFea = StockChart.GetHeaderValue(2)\n",
    "    numData = StockChart.GetHeaderValue(3)\n",
    "                 \n",
    "    for i in range(numData):\n",
    "        code.append(jusikCode)\n",
    "        name.append(jusikName)\n",
    "        c0.append(str(StockChart.GetDataValue(0, i)))\n",
    "        c1.append(str(StockChart.GetDataValue(1, i)))\n",
    "        c2.append(StockChart.GetDataValue(2, i))\n",
    "        c3.append(StockChart.GetDataValue(3, i))\n",
    "        c4.append(StockChart.GetDataValue(4, i))\n",
    "        c5.append(StockChart.GetDataValue(5, i))\n",
    "        c8.append(StockChart.GetDataValue(8, i))\n",
    "        # c9.append(StockChart.GetDataValue(9, i))\n",
    "        # c10.append(StockChart.GetDataValue(10, i))\n",
    "        # c11.append(StockChart.GetDataValue(11, i))\n",
    "    dataDf = pd.DataFrame()\n",
    "    dataDf['종목코드'] = code\n",
    "    dataDf['종목명'] = name\n",
    "    dataDf['날짜'] = c0\n",
    "    dataDf['시간'] = c1\n",
    "    dataDf['시가'] = c2\n",
    "    dataDf['고가'] = c3\n",
    "    dataDf['저가'] = c4\n",
    "    dataDf['종가'] = c5\n",
    "    dataDf['거래량'] = c8\n",
    "    # dataDf['거래대금'] = c9\n",
    "    # dataDf['누적체결매도수량'] = c10\n",
    "    # dataDf['누적체결매수수량'] = c11\n",
    "\n",
    "    return dataDf"
   ]
  },
  {
   "cell_type": "code",
   "execution_count": 10,
   "metadata": {},
   "outputs": [],
   "source": [
    "# 완성된 csv파일 출력하기\n",
    "def aaa(stockNameList):\n",
    "    return pd.read_csv('./stockdata/'+stockNameList[0]+' 주식 데이터.csv', encoding='euc-kr')"
   ]
  },
  {
   "cell_type": "code",
   "execution_count": 11,
   "metadata": {},
   "outputs": [],
   "source": [
    "# 수신 받은 주식데이터 정렬하기\n",
    "def reverse(stockNameList):\n",
    "    print('[시스템]:수신받은 데이터 날짜, 시간순으로 정렬 작업중')\n",
    "    for i in range(len(stockNameList)):\n",
    "        data1 = pd.read_csv('./stockdata/'+stockNameList[i]+' 주식 데이터.csv', encoding='euc-kr')\n",
    "\n",
    "        data1.sort_values(['날짜','시간'], inplace=True)\n",
    "        data1.reset_index(inplace=True)\n",
    "        data1.drop('index', axis=1, inplace=True)\n",
    "        data1.to_csv('./stockdata/'+stockNameList[i]+' 주식 데이터.csv', encoding='euc-kr', index=False)\n",
    "    print('[시스템]:정렬 완료!')"
   ]
  },
  {
   "cell_type": "code",
   "execution_count": 14,
   "metadata": {},
   "outputs": [
    {
     "name": "stdout",
     "output_type": "stream",
     "text": [
      "[시스템]:증권사 연결 시도 중\n",
      "[시스템]:증권사 연결 완료!\n",
      "[시스템]:거래 가능한 종목 개수 : 3997개 체크\n",
      "[시스템]:거래 가능한 종목 리스트 목록 가져오는 중\n",
      "[시스템]:거래 가능한 종목 리스트 목록 가져오기 완료!\n",
      "[시스템]:20210709 ~ 20230719 사이에 거래된 루닛 종목 주가 데이터 가져오는 중\n"
     ]
    },
    {
     "name": "stderr",
     "output_type": "stream",
     "text": [
      "100%|██████████| 370/370 [02:10<00:00,  2.83it/s]\n"
     ]
    },
    {
     "name": "stdout",
     "output_type": "stream",
     "text": [
      "[시스템]:루닛 종목의 주식시세 데이터 요청 수신성공 및 csv로 저장 성공!\n",
      "[시스템]:수신받은 데이터 날짜, 시간순으로 정렬 작업중\n"
     ]
    },
    {
     "ename": "FileNotFoundError",
     "evalue": "[Errno 2] No such file or directory: './stockdata/루닛 주식 데이터.csv'",
     "output_type": "error",
     "traceback": [
      "\u001b[1;31m---------------------------------------------------------------------------\u001b[0m",
      "\u001b[1;31mFileNotFoundError\u001b[0m                         Traceback (most recent call last)",
      "Cell \u001b[1;32mIn[14], line 27\u001b[0m\n\u001b[0;32m     24\u001b[0m     hapdata\u001b[39m.\u001b[39mto_csv(\u001b[39m'\u001b[39m\u001b[39m./stock/\u001b[39m\u001b[39m'\u001b[39m\u001b[39m+\u001b[39mselCodeNameList[\u001b[39m'\u001b[39m\u001b[39m종목명\u001b[39m\u001b[39m'\u001b[39m]\u001b[39m.\u001b[39miloc[j]\u001b[39m+\u001b[39m\u001b[39m'\u001b[39m\u001b[39m 주식 데이터.csv\u001b[39m\u001b[39m'\u001b[39m, encoding\u001b[39m=\u001b[39m\u001b[39m'\u001b[39m\u001b[39meuc-kr\u001b[39m\u001b[39m'\u001b[39m, index\u001b[39m=\u001b[39m\u001b[39mFalse\u001b[39;00m)\n\u001b[0;32m     25\u001b[0m     \u001b[39mprint\u001b[39m(\u001b[39m'\u001b[39m\u001b[39m[시스템]:\u001b[39m\u001b[39m'\u001b[39m\u001b[39m+\u001b[39mselCodeNameList[\u001b[39m'\u001b[39m\u001b[39m종목명\u001b[39m\u001b[39m'\u001b[39m]\u001b[39m.\u001b[39miloc[j]\u001b[39m+\u001b[39m\u001b[39m'\u001b[39m\u001b[39m 종목의 주식시세 데이터 요청 수신성공 및 csv로 저장 성공!\u001b[39m\u001b[39m'\u001b[39m)\n\u001b[1;32m---> 27\u001b[0m reverse(stockNameList)\n\u001b[0;32m     28\u001b[0m \u001b[39mprint\u001b[39m(\u001b[39m'\u001b[39m\u001b[39m[시스템]:수신요청 종료\u001b[39m\u001b[39m'\u001b[39m)\n\u001b[0;32m     29\u001b[0m aaa(stockNameList)\n",
      "Cell \u001b[1;32mIn[11], line 5\u001b[0m, in \u001b[0;36mreverse\u001b[1;34m(stockNameList)\u001b[0m\n\u001b[0;32m      3\u001b[0m \u001b[39mprint\u001b[39m(\u001b[39m'\u001b[39m\u001b[39m[시스템]:수신받은 데이터 날짜, 시간순으로 정렬 작업중\u001b[39m\u001b[39m'\u001b[39m)\n\u001b[0;32m      4\u001b[0m \u001b[39mfor\u001b[39;00m i \u001b[39min\u001b[39;00m \u001b[39mrange\u001b[39m(\u001b[39mlen\u001b[39m(stockNameList)):\n\u001b[1;32m----> 5\u001b[0m     data1 \u001b[39m=\u001b[39m pd\u001b[39m.\u001b[39;49mread_csv(\u001b[39m'\u001b[39;49m\u001b[39m./stockdata/\u001b[39;49m\u001b[39m'\u001b[39;49m\u001b[39m+\u001b[39;49mstockNameList[i]\u001b[39m+\u001b[39;49m\u001b[39m'\u001b[39;49m\u001b[39m 주식 데이터.csv\u001b[39;49m\u001b[39m'\u001b[39;49m, encoding\u001b[39m=\u001b[39;49m\u001b[39m'\u001b[39;49m\u001b[39meuc-kr\u001b[39;49m\u001b[39m'\u001b[39;49m)\n\u001b[0;32m      7\u001b[0m     data1\u001b[39m.\u001b[39msort_values([\u001b[39m'\u001b[39m\u001b[39m날짜\u001b[39m\u001b[39m'\u001b[39m,\u001b[39m'\u001b[39m\u001b[39m시간\u001b[39m\u001b[39m'\u001b[39m], inplace\u001b[39m=\u001b[39m\u001b[39mTrue\u001b[39;00m)\n\u001b[0;32m      8\u001b[0m     data1\u001b[39m.\u001b[39mreset_index(inplace\u001b[39m=\u001b[39m\u001b[39mTrue\u001b[39;00m)\n",
      "File \u001b[1;32mc:\\Users\\PC\\anaconda3\\envs\\py32\\lib\\site-packages\\pandas\\io\\parsers\\readers.py:912\u001b[0m, in \u001b[0;36mread_csv\u001b[1;34m(filepath_or_buffer, sep, delimiter, header, names, index_col, usecols, dtype, engine, converters, true_values, false_values, skipinitialspace, skiprows, skipfooter, nrows, na_values, keep_default_na, na_filter, verbose, skip_blank_lines, parse_dates, infer_datetime_format, keep_date_col, date_parser, date_format, dayfirst, cache_dates, iterator, chunksize, compression, thousands, decimal, lineterminator, quotechar, quoting, doublequote, escapechar, comment, encoding, encoding_errors, dialect, on_bad_lines, delim_whitespace, low_memory, memory_map, float_precision, storage_options, dtype_backend)\u001b[0m\n\u001b[0;32m    899\u001b[0m kwds_defaults \u001b[39m=\u001b[39m _refine_defaults_read(\n\u001b[0;32m    900\u001b[0m     dialect,\n\u001b[0;32m    901\u001b[0m     delimiter,\n\u001b[1;32m   (...)\u001b[0m\n\u001b[0;32m    908\u001b[0m     dtype_backend\u001b[39m=\u001b[39mdtype_backend,\n\u001b[0;32m    909\u001b[0m )\n\u001b[0;32m    910\u001b[0m kwds\u001b[39m.\u001b[39mupdate(kwds_defaults)\n\u001b[1;32m--> 912\u001b[0m \u001b[39mreturn\u001b[39;00m _read(filepath_or_buffer, kwds)\n",
      "File \u001b[1;32mc:\\Users\\PC\\anaconda3\\envs\\py32\\lib\\site-packages\\pandas\\io\\parsers\\readers.py:577\u001b[0m, in \u001b[0;36m_read\u001b[1;34m(filepath_or_buffer, kwds)\u001b[0m\n\u001b[0;32m    574\u001b[0m _validate_names(kwds\u001b[39m.\u001b[39mget(\u001b[39m\"\u001b[39m\u001b[39mnames\u001b[39m\u001b[39m\"\u001b[39m, \u001b[39mNone\u001b[39;00m))\n\u001b[0;32m    576\u001b[0m \u001b[39m# Create the parser.\u001b[39;00m\n\u001b[1;32m--> 577\u001b[0m parser \u001b[39m=\u001b[39m TextFileReader(filepath_or_buffer, \u001b[39m*\u001b[39m\u001b[39m*\u001b[39mkwds)\n\u001b[0;32m    579\u001b[0m \u001b[39mif\u001b[39;00m chunksize \u001b[39mor\u001b[39;00m iterator:\n\u001b[0;32m    580\u001b[0m     \u001b[39mreturn\u001b[39;00m parser\n",
      "File \u001b[1;32mc:\\Users\\PC\\anaconda3\\envs\\py32\\lib\\site-packages\\pandas\\io\\parsers\\readers.py:1407\u001b[0m, in \u001b[0;36mTextFileReader.__init__\u001b[1;34m(self, f, engine, **kwds)\u001b[0m\n\u001b[0;32m   1404\u001b[0m     \u001b[39mself\u001b[39m\u001b[39m.\u001b[39moptions[\u001b[39m\"\u001b[39m\u001b[39mhas_index_names\u001b[39m\u001b[39m\"\u001b[39m] \u001b[39m=\u001b[39m kwds[\u001b[39m\"\u001b[39m\u001b[39mhas_index_names\u001b[39m\u001b[39m\"\u001b[39m]\n\u001b[0;32m   1406\u001b[0m \u001b[39mself\u001b[39m\u001b[39m.\u001b[39mhandles: IOHandles \u001b[39m|\u001b[39m \u001b[39mNone\u001b[39;00m \u001b[39m=\u001b[39m \u001b[39mNone\u001b[39;00m\n\u001b[1;32m-> 1407\u001b[0m \u001b[39mself\u001b[39m\u001b[39m.\u001b[39m_engine \u001b[39m=\u001b[39m \u001b[39mself\u001b[39;49m\u001b[39m.\u001b[39;49m_make_engine(f, \u001b[39mself\u001b[39;49m\u001b[39m.\u001b[39;49mengine)\n",
      "File \u001b[1;32mc:\\Users\\PC\\anaconda3\\envs\\py32\\lib\\site-packages\\pandas\\io\\parsers\\readers.py:1661\u001b[0m, in \u001b[0;36mTextFileReader._make_engine\u001b[1;34m(self, f, engine)\u001b[0m\n\u001b[0;32m   1659\u001b[0m     \u001b[39mif\u001b[39;00m \u001b[39m\"\u001b[39m\u001b[39mb\u001b[39m\u001b[39m\"\u001b[39m \u001b[39mnot\u001b[39;00m \u001b[39min\u001b[39;00m mode:\n\u001b[0;32m   1660\u001b[0m         mode \u001b[39m+\u001b[39m\u001b[39m=\u001b[39m \u001b[39m\"\u001b[39m\u001b[39mb\u001b[39m\u001b[39m\"\u001b[39m\n\u001b[1;32m-> 1661\u001b[0m \u001b[39mself\u001b[39m\u001b[39m.\u001b[39mhandles \u001b[39m=\u001b[39m get_handle(\n\u001b[0;32m   1662\u001b[0m     f,\n\u001b[0;32m   1663\u001b[0m     mode,\n\u001b[0;32m   1664\u001b[0m     encoding\u001b[39m=\u001b[39;49m\u001b[39mself\u001b[39;49m\u001b[39m.\u001b[39;49moptions\u001b[39m.\u001b[39;49mget(\u001b[39m\"\u001b[39;49m\u001b[39mencoding\u001b[39;49m\u001b[39m\"\u001b[39;49m, \u001b[39mNone\u001b[39;49;00m),\n\u001b[0;32m   1665\u001b[0m     compression\u001b[39m=\u001b[39;49m\u001b[39mself\u001b[39;49m\u001b[39m.\u001b[39;49moptions\u001b[39m.\u001b[39;49mget(\u001b[39m\"\u001b[39;49m\u001b[39mcompression\u001b[39;49m\u001b[39m\"\u001b[39;49m, \u001b[39mNone\u001b[39;49;00m),\n\u001b[0;32m   1666\u001b[0m     memory_map\u001b[39m=\u001b[39;49m\u001b[39mself\u001b[39;49m\u001b[39m.\u001b[39;49moptions\u001b[39m.\u001b[39;49mget(\u001b[39m\"\u001b[39;49m\u001b[39mmemory_map\u001b[39;49m\u001b[39m\"\u001b[39;49m, \u001b[39mFalse\u001b[39;49;00m),\n\u001b[0;32m   1667\u001b[0m     is_text\u001b[39m=\u001b[39;49mis_text,\n\u001b[0;32m   1668\u001b[0m     errors\u001b[39m=\u001b[39;49m\u001b[39mself\u001b[39;49m\u001b[39m.\u001b[39;49moptions\u001b[39m.\u001b[39;49mget(\u001b[39m\"\u001b[39;49m\u001b[39mencoding_errors\u001b[39;49m\u001b[39m\"\u001b[39;49m, \u001b[39m\"\u001b[39;49m\u001b[39mstrict\u001b[39;49m\u001b[39m\"\u001b[39;49m),\n\u001b[0;32m   1669\u001b[0m     storage_options\u001b[39m=\u001b[39;49m\u001b[39mself\u001b[39;49m\u001b[39m.\u001b[39;49moptions\u001b[39m.\u001b[39;49mget(\u001b[39m\"\u001b[39;49m\u001b[39mstorage_options\u001b[39;49m\u001b[39m\"\u001b[39;49m, \u001b[39mNone\u001b[39;49;00m),\n\u001b[0;32m   1670\u001b[0m )\n\u001b[0;32m   1671\u001b[0m \u001b[39massert\u001b[39;00m \u001b[39mself\u001b[39m\u001b[39m.\u001b[39mhandles \u001b[39mis\u001b[39;00m \u001b[39mnot\u001b[39;00m \u001b[39mNone\u001b[39;00m\n\u001b[0;32m   1672\u001b[0m f \u001b[39m=\u001b[39m \u001b[39mself\u001b[39m\u001b[39m.\u001b[39mhandles\u001b[39m.\u001b[39mhandle\n",
      "File \u001b[1;32mc:\\Users\\PC\\anaconda3\\envs\\py32\\lib\\site-packages\\pandas\\io\\common.py:859\u001b[0m, in \u001b[0;36mget_handle\u001b[1;34m(path_or_buf, mode, encoding, compression, memory_map, is_text, errors, storage_options)\u001b[0m\n\u001b[0;32m    854\u001b[0m \u001b[39melif\u001b[39;00m \u001b[39misinstance\u001b[39m(handle, \u001b[39mstr\u001b[39m):\n\u001b[0;32m    855\u001b[0m     \u001b[39m# Check whether the filename is to be opened in binary mode.\u001b[39;00m\n\u001b[0;32m    856\u001b[0m     \u001b[39m# Binary mode does not support 'encoding' and 'newline'.\u001b[39;00m\n\u001b[0;32m    857\u001b[0m     \u001b[39mif\u001b[39;00m ioargs\u001b[39m.\u001b[39mencoding \u001b[39mand\u001b[39;00m \u001b[39m\"\u001b[39m\u001b[39mb\u001b[39m\u001b[39m\"\u001b[39m \u001b[39mnot\u001b[39;00m \u001b[39min\u001b[39;00m ioargs\u001b[39m.\u001b[39mmode:\n\u001b[0;32m    858\u001b[0m         \u001b[39m# Encoding\u001b[39;00m\n\u001b[1;32m--> 859\u001b[0m         handle \u001b[39m=\u001b[39m \u001b[39mopen\u001b[39;49m(\n\u001b[0;32m    860\u001b[0m             handle,\n\u001b[0;32m    861\u001b[0m             ioargs\u001b[39m.\u001b[39;49mmode,\n\u001b[0;32m    862\u001b[0m             encoding\u001b[39m=\u001b[39;49mioargs\u001b[39m.\u001b[39;49mencoding,\n\u001b[0;32m    863\u001b[0m             errors\u001b[39m=\u001b[39;49merrors,\n\u001b[0;32m    864\u001b[0m             newline\u001b[39m=\u001b[39;49m\u001b[39m\"\u001b[39;49m\u001b[39m\"\u001b[39;49m,\n\u001b[0;32m    865\u001b[0m         )\n\u001b[0;32m    866\u001b[0m     \u001b[39melse\u001b[39;00m:\n\u001b[0;32m    867\u001b[0m         \u001b[39m# Binary mode\u001b[39;00m\n\u001b[0;32m    868\u001b[0m         handle \u001b[39m=\u001b[39m \u001b[39mopen\u001b[39m(handle, ioargs\u001b[39m.\u001b[39mmode)\n",
      "\u001b[1;31mFileNotFoundError\u001b[0m: [Errno 2] No such file or directory: './stockdata/루닛 주식 데이터.csv'"
     ]
    }
   ],
   "source": [
    "# 주식데이터를 받기 위해 실행\n",
    "\n",
    "stockNameList = ['루닛'] # 이곳에 수신 받고 싶은 종목 이름을 정확히 입력해주세요. 여러개 가능.\n",
    "\n",
    "connectCheck()\n",
    "canTradeStockCount()\n",
    "codeNameList = getStockNameCode()\n",
    "selCodeNameList = jongmokSerach(stockNameList, codeNameList)\n",
    "\n",
    "a = dt.datetime(2021,7,9) # 수신 받고 싶은 원하는 시작 날짜를 입력하세요.\n",
    "b = dt.datetime(2023,7,19) # 수신 받고 싶은 원하는 종료 날짜를 입력하세요.\n",
    "number = b-a\n",
    "\n",
    "for j in range(0,selCodeNameList.shape[0]):\n",
    "    print('[시스템]:'+str(a.strftime('%Y%m%d'))+' ~ '+str(b.strftime('%Y%m%d'))+' 사이에 거래된 '+str(selCodeNameList['종목명'].iloc[j])+' 종목 주가 데이터 가져오는 중')\n",
    "    frame = []\n",
    "    for i in tqdm(range(0, number.days, 2)):\n",
    "        c = a + dt.timedelta(days=i)\n",
    "        d = a + dt.timedelta(days=i+1)\n",
    "        data = getjusik(selCodeNameList['종목코드'].iloc[j], selCodeNameList['종목명'].iloc[j], c.strftime('%Y%m%d'), d.strftime('%Y%m%d'))\n",
    "        frame.append(data)\n",
    "        time.sleep(0.3)\n",
    "    hapdata = pd.concat(frame)\n",
    "    hapdata.to_csv('./stock/'+selCodeNameList['종목명'].iloc[j]+' 주식 데이터.csv', encoding='euc-kr', index=False)\n",
    "    print('[시스템]:'+selCodeNameList['종목명'].iloc[j]+' 종목의 주식시세 데이터 요청 수신성공 및 csv로 저장 성공!')\n",
    "\n",
    "reverse(stockNameList)\n",
    "print('[시스템]:수신요청 종료')\n",
    "aaa(stockNameList)"
   ]
  },
  {
   "cell_type": "code",
   "execution_count": null,
   "metadata": {},
   "outputs": [],
   "source": []
  }
 ],
 "metadata": {
  "kernelspec": {
   "display_name": "dl-dev-gpu",
   "language": "python",
   "name": "python3"
  },
  "language_info": {
   "codemirror_mode": {
    "name": "ipython",
    "version": 3
   },
   "file_extension": ".py",
   "mimetype": "text/x-python",
   "name": "python",
   "nbconvert_exporter": "python",
   "pygments_lexer": "ipython3",
   "version": "3.10.4"
  },
  "orig_nbformat": 4
 },
 "nbformat": 4,
 "nbformat_minor": 2
}
